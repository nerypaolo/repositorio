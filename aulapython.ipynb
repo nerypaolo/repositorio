{
  "nbformat": 4,
  "nbformat_minor": 0,
  "metadata": {
    "colab": {
      "provenance": [],
      "authorship_tag": "ABX9TyPQ5oYjzUUdjeL5l1aO8fh5",
      "include_colab_link": true
    },
    "kernelspec": {
      "name": "python3",
      "display_name": "Python 3"
    },
    "language_info": {
      "name": "python"
    }
  },
  "cells": [
    {
      "cell_type": "markdown",
      "metadata": {
        "id": "view-in-github",
        "colab_type": "text"
      },
      "source": [
        "<a href=\"https://colab.research.google.com/github/nerypaolo/repositorio/blob/main/aulapython.ipynb\" target=\"_parent\"><img src=\"https://colab.research.google.com/assets/colab-badge.svg\" alt=\"Open In Colab\"/></a>"
      ]
    },
    {
      "cell_type": "markdown",
      "source": [
        "nível 1"
      ],
      "metadata": {
        "id": "SesbJajjOCSl"
      }
    },
    {
      "cell_type": "code",
      "execution_count": 2,
      "metadata": {
        "colab": {
          "base_uri": "https://localhost:8080/"
        },
        "id": "ChfqIJFHN2sO",
        "outputId": "db047c9f-fafa-40c7-bd0e-3986f58b7799"
      },
      "outputs": [
        {
          "output_type": "stream",
          "name": "stdout",
          "text": [
            "oi\n"
          ]
        }
      ],
      "source": [
        "##nivel 1\n",
        "print('oi')"
      ]
    },
    {
      "cell_type": "markdown",
      "source": [
        "nivel 2"
      ],
      "metadata": {
        "id": "khfDUR1BOoqB"
      }
    },
    {
      "cell_type": "code",
      "source": [
        "numero1 = int(input('Informe o numero 1: '))\n",
        "numero2 = int(input('informe o numero 2: '))\n",
        "print(numero1+numero2)"
      ],
      "metadata": {
        "colab": {
          "base_uri": "https://localhost:8080/"
        },
        "id": "rIkSB_94OzdH",
        "outputId": "097f8dc7-856d-4cbf-f069-dbac9a2e1b8c"
      },
      "execution_count": 4,
      "outputs": [
        {
          "output_type": "stream",
          "name": "stdout",
          "text": [
            "Informe o numero 1: 234\n",
            "informe o numero 2: 345\n",
            "579\n"
          ]
        }
      ]
    }
  ]
}